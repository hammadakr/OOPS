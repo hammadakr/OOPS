{
 "cells": [
  {
   "cell_type": "code",
   "execution_count": 17,
   "id": "88d2f116-101c-4eba-b888-10c7c3881906",
   "metadata": {},
   "outputs": [],
   "source": [
    "# pip install scikit-learn\n",
    "# !pip install matplotlib"
   ]
  },
  {
   "cell_type": "code",
   "execution_count": 7,
   "id": "8eea2d89-ad43-480f-a951-be4c56d45fea",
   "metadata": {
    "scrolled": true
   },
   "outputs": [],
   "source": [
    "import pandas as pd\n",
    "import numpy as np\n",
    "from collections import Counter\n",
    "from sklearn import datasets\n",
    "from sklearn.model_selection import train_test_split\n",
    "import matplotlib.pyplot as plt\n",
    "from matplotlib.colors import ListedColormap"
   ]
  },
  {
   "cell_type": "code",
   "execution_count": 8,
   "id": "85b07c10-156f-4738-a46f-1b74b87d165f",
   "metadata": {},
   "outputs": [],
   "source": [
    "def euclidean_distance(x1, x2):\n",
    "    distance = np.sqrt(np.sum((x1-x2)**2))\n",
    "    return distance"
   ]
  },
  {
   "cell_type": "code",
   "execution_count": 9,
   "id": "7067a228-bcdf-4ed2-87bd-b7d2bc15aa71",
   "metadata": {},
   "outputs": [],
   "source": [
    "class KNN:\n",
    "    def __init__(self, k=2):\n",
    "        self.k = k\n",
    "\n",
    "    def fit(self, X, y):\n",
    "        self.X_train = X\n",
    "        self.y_train = y\n",
    "\n",
    "    def predict(self, X):\n",
    "        predictions = [self._predict(x) for x in X]\n",
    "        return predictions\n",
    "\n",
    "    def _predict(self, x):\n",
    "        # compute the distance\n",
    "        distances = [euclidean_distance(x, x_train) for x_train in self.X_train]\n",
    "    \n",
    "        # get the closest k\n",
    "        k_indices = np.argsort(distances)[:self.k]\n",
    "        k_nearest_labels = [self.y_train[i] for i in k_indices]\n",
    "\n",
    "        # majority voye\n",
    "        most_common = Counter(k_nearest_labels).most_common()\n",
    "        return most_common[0][0]"
   ]
  },
  {
   "cell_type": "code",
   "execution_count": 10,
   "id": "7a70b533-b48c-4a99-923a-62c23b3d366c",
   "metadata": {},
   "outputs": [],
   "source": [
    "cmap = ListedColormap(['#FF0000','#00FF00'])"
   ]
  },
  {
   "cell_type": "code",
   "execution_count": 11,
   "id": "d034e537-281d-4bc3-8cbd-ee61d534ed05",
   "metadata": {},
   "outputs": [],
   "source": [
    "iris = datasets.load_iris()\n",
    "X, y = iris.data, iris.target"
   ]
  },
  {
   "cell_type": "code",
   "execution_count": 12,
   "id": "bb786ccd-6dbe-4ee1-aee4-e1ba22a6b4d1",
   "metadata": {},
   "outputs": [],
   "source": [
    "X_train, X_test, y_train, y_test = train_test_split(X, y, test_size=0.2, random_state=1234)"
   ]
  },
  {
   "cell_type": "code",
   "execution_count": 13,
   "id": "b70ca8ad-79b6-4965-8e6e-673408957de1",
   "metadata": {},
   "outputs": [
    {
     "data": {
      "image/png": "[encoded data removed]",
      "text/plain": [
       "<Figure size 640x480 with 1 Axes>"
      ]
     },
     "metadata": {},
     "output_type": "display_data"
    }
   ],
   "source": [
    "plt.figure()\n",
    "plt.scatter(X[:,2],X[:,3], c=y, cmap=cmap, edgecolor='k', s=20)\n",
    "plt.show()"
   ]
  },
  {
   "cell_type": "code",
   "execution_count": 14,
   "id": "5baecc69-4de2-4430-a6a3-668d4c0c3bd6",
   "metadata": {},
   "outputs": [],
   "source": [
    "clf = KNN(k=2)\n",
    "clf.fit(X_train, y_train)\n",
    "predictions = clf.predict(X_test)"
   ]
  },
  {
   "cell_type": "code",
   "execution_count": 15,
   "id": "863569cd-e79e-4fed-b43d-6830d8c28f1f",
   "metadata": {},
   "outputs": [
    {
     "name": "stdout",
     "output_type": "stream",
     "text": [
      "[np.int64(1), np.int64(1), np.int64(2), np.int64(0), np.int64(1), np.int64(0), np.int64(0), np.int64(0), np.int64(1), np.int64(2), np.int64(1), np.int64(0), np.int64(2), np.int64(1), np.int64(0), np.int64(1), np.int64(2), np.int64(0), np.int64(2), np.int64(1), np.int64(1), np.int64(1), np.int64(1), np.int64(1), np.int64(2), np.int64(0), np.int64(2), np.int64(1), np.int64(2), np.int64(0)]\n"
     ]
    }
   ],
   "source": [
    "print((predictions))"
   ]
  },
  {
   "cell_type": "code",
   "execution_count": 16,
   "id": "77c9e1fc-d21c-4de0-b131-d09417d8c2d1",
   "metadata": {},
   "outputs": [
    {
     "name": "stdout",
     "output_type": "stream",
     "text": [
      "1.0\n"
     ]
    }
   ],
   "source": [
    "acc = np.sum(predictions == y_test) / len(y_test)\n",
    "print(acc)"
   ]
  },
  {
   "cell_type": "code",
   "execution_count": null,
   "id": "ada960be-6a56-49e9-821a-a5d2f6c55754",
   "metadata": {},
   "outputs": [],
   "source": []
  },
  {
   "cell_type": "code",
   "execution_count": null,
   "id": "3bc25b5b-6d46-4bc0-b439-6b4972f4a5e6",
   "metadata": {},
   "outputs": [],
   "source": []
  },
  {
   "cell_type": "code",
   "execution_count": null,
   "id": "b0432d3d-32d8-4730-a206-7d8c397b67f3",
   "metadata": {},
   "outputs": [],
   "source": []
  },
  {
   "cell_type": "code",
   "execution_count": null,
   "id": "a6a0a1ce-24f8-489f-932b-125d88d2913e",
   "metadata": {},
   "outputs": [],
   "source": []
  },
  {
   "cell_type": "code",
   "execution_count": null,
   "id": "1f6741e5-e066-4444-9eea-c7c1231cd89d",
   "metadata": {},
   "outputs": [],
   "source": []
  },
  {
   "cell_type": "code",
   "execution_count": 20,
   "id": "4be4081a-1d73-4d2c-8563-4b03885bb43d",
   "metadata": {},
   "outputs": [],
   "source": [
    "import numpy as np\n",
    "\n",
    "class KNN:\n",
    "    def __init__(self, k=3):\n",
    "        self.k = k\n",
    "\n",
    "    def fit(self, X, y):\n",
    "        self.X_train = X\n",
    "        self.y_train = y\n",
    "\n",
    "    def euclidean_distance(self, x1, x2):\n",
    "        return np.sqrt(np.sum((x1-x2)**2))\n",
    "\n",
    "    def predict(self, X):\n",
    "        y_pred = [self._predict(x) for x in X]\n",
    "        return np.array(y_pred)\n",
    "\n",
    "    def _predict(self, x):\n",
    "        distance = [self.euclidean_distance(x, x_train) for x_train in self.X_train]\n",
    "        k_indices = np.argsort(distance)[:self.k]\n",
    "        k_nearest_labels = [self.y_train[i] for i in k_indices]\n",
    "        most_common = np.bincount(k_nearest_labels).argmax()\n",
    "        return most_common"
   ]
  },
  {
   "cell_type": "code",
   "execution_count": 21,
   "id": "78be31a3-523e-4e5a-b85e-bcc07c907fdd",
   "metadata": {},
   "outputs": [
    {
     "name": "stdout",
     "output_type": "stream",
     "text": [
      "Predicted class: [0 1 0 0 1 0 0 1 0 0 0 1 1]\n",
      "Actual class: [0 1 0 0 1 0 0 1 0 0 0 1 1]\n"
     ]
    }
   ],
   "source": [
    "from sklearn.datasets import make_classification\n",
    "from sklearn.model_selection import train_test_split\n",
    "X, y = make_classification(n_samples = 50,\n",
    "                                       n_features = 2,\n",
    "                                       n_informative = 2,\n",
    "                                       n_redundant = 0,\n",
    "                                       n_classes = 2,\n",
    "                                       weights = [0.51, .49])\n",
    "# using the train test split function\n",
    "X_train, X_test,y_train, y_test = train_test_split(X,y ,\n",
    "                                   random_state=104, \n",
    "                                   test_size=0.25, \n",
    "                                   shuffle=True)\n",
    "\n",
    "# Create a KNN classifier with k=2\n",
    "knn = KNN(k=2)\n",
    "knn.fit(X_train, y_train)\n",
    "\n",
    "# Predict a new data point\n",
    "X_new = np.array([[5.5, 3.5]])\n",
    "prediction = knn.predict(X_test)\n",
    "\n",
    "print(\"Predicted class:\", prediction)\n",
    "print(\"Actual class:\", y_test)"
   ]
  },
  {
   "cell_type": "code",
   "execution_count": null,
   "id": "f24d7cad-255a-401f-8c4d-29bd9fdb6b7f",
   "metadata": {},
   "outputs": [],
   "source": []
  },
  {
   "cell_type": "code",
   "execution_count": null,
   "id": "46adc748-294b-427c-bf98-6a31f6f1d19c",
   "metadata": {},
   "outputs": [],
   "source": []
  },
  {
   "cell_type": "code",
   "execution_count": null,
   "id": "c8bf2b38-2182-4531-b40b-72a62a401fac",
   "metadata": {},
   "outputs": [],
   "source": []
  },
  {
   "cell_type": "code",
   "execution_count": null,
   "id": "42b62755-ff9b-4454-af4b-3126ad67551a",
   "metadata": {},
   "outputs": [],
   "source": []
  },
  {
   "cell_type": "code",
   "execution_count": null,
   "id": "99cc7865-e8a9-476b-9d23-c14614bb02f8",
   "metadata": {},
   "outputs": [],
   "source": []
  },
  {
   "cell_type": "code",
   "execution_count": 24,
   "id": "93e044df-c1b4-48ab-9181-e1e2f7faaf06",
   "metadata": {},
   "outputs": [
    {
     "ename": "SyntaxError",
     "evalue": "incomplete input (1819628303.py, line 1)",
     "output_type": "error",
     "traceback": [
      "\u001b[0;36m  Cell \u001b[0;32mIn[24], line 1\u001b[0;36m\u001b[0m\n\u001b[0;31m    class knn:\u001b[0m\n\u001b[0m              ^\u001b[0m\n\u001b[0;31mSyntaxError\u001b[0m\u001b[0;31m:\u001b[0m incomplete input\n"
     ]
    }
   ],
   "source": [
    "import numpy as np \n",
    "\n",
    "class knn:\n",
    "    def __init__(self, k=2):\n",
    "        self.k = k\n",
    "\n",
    "    def fit(self, X, y):\n",
    "        self.X_train = X\n",
    "        self.y_train = y\n",
    "    \n",
    "    def calculate_euclidean(self, x1, x2):\n",
    "        return np.sqrt(np.sum(x1-x2) ** 2)\n",
    "\n",
    "    def predict(X):\n",
    "        y_pred = [self._predict(x) for x in X]\n",
    "        return np.array(y_pred)\n",
    "\n",
    "    def _predict(X):\n",
    "        distances = [self.calcultae_euclidean(x, x_train) for x_train in X_train]\n",
    "        k_indices = np.argsort(distances)[:self.k]\n",
    "        \n",
    "        "
   ]
  },
  {
   "cell_type": "code",
   "execution_count": null,
   "id": "b03bedd1-1fed-4615-928d-3f0f056ff6a0",
   "metadata": {},
   "outputs": [],
   "source": []
  },
  {
   "cell_type": "code",
   "execution_count": null,
   "id": "3f8b5db5-1f74-41c9-8745-2db3f25a4b70",
   "metadata": {},
   "outputs": [],
   "source": []
  },
  {
   "cell_type": "code",
   "execution_count": null,
   "id": "3c4e92fb-a393-46b8-835e-08730398262a",
   "metadata": {},
   "outputs": [],
   "source": []
  },
  {
   "cell_type": "code",
   "execution_count": null,
   "id": "f70d3d2d-f8c0-4350-9f18-98cb048e057d",
   "metadata": {},
   "outputs": [],
   "source": []
  },
  {
   "cell_type": "code",
   "execution_count": null,
   "id": "c4f42448-7460-4de2-8855-5d26732882df",
   "metadata": {},
   "outputs": [],
   "source": []
  },
  {
   "cell_type": "code",
   "execution_count": null,
   "id": "b21c13ae-e333-492e-91e3-e2b7ec350084",
   "metadata": {},
   "outputs": [],
   "source": []
  },
  {
   "cell_type": "code",
   "execution_count": null,
   "id": "0f90c947-b8e6-442e-ac96-08491ff8c138",
   "metadata": {},
   "outputs": [],
   "source": []
  }
 ],
 "metadata": {
  "kernelspec": {
   "display_name": "Python 3 (ipykernel)",
   "language": "python",
   "name": "python3"
  },
  "language_info": {
   "codemirror_mode": {
    "name": "ipython",
    "version": 3
   },
   "file_extension": ".py",
   "mimetype": "text/x-python",
   "name": "python",
   "nbconvert_exporter": "python",
   "pygments_lexer": "ipython3",
   "version": "3.12.4"
  }
 },
 "nbformat": 4,
 "nbformat_minor": 5
}
