{
 "cells": [
  {
   "cell_type": "code",
   "execution_count": 2,
   "id": "6d210c9c-bcc9-42ac-b9d4-59babdd08336",
   "metadata": {},
   "outputs": [],
   "source": [
    "from itertools import combinations\n",
    "from collections import defaultdict"
   ]
  },
  {
   "cell_type": "code",
   "execution_count": null,
   "id": "511ba1b6-a773-4787-9dc3-cfffbac550dc",
   "metadata": {},
   "outputs": [],
   "source": []
  },
  {
   "cell_type": "code",
   "execution_count": null,
   "id": "6e8f1355-63df-4f04-8c68-1555430e13f9",
   "metadata": {},
   "outputs": [],
   "source": []
  },
  {
   "cell_type": "code",
   "execution_count": 9,
   "id": "19d43422-2998-4f7d-90f8-bbb34d4efe57",
   "metadata": {},
   "outputs": [],
   "source": [
    "def create_candidates(items, length):\n",
    "    print(combinations(items, length));\n",
    "    return list(combinations(items, length))"
   ]
  },
  {
   "cell_type": "code",
   "execution_count": 10,
   "id": "b0002869-5288-4df8-b55e-b50db901dca1",
   "metadata": {},
   "outputs": [],
   "source": [
    "def get_support(itemset, transactions):\n",
    "    count = sum(1 for transaction in transactions if set(itemset).issubset(transaction))\n",
    "    return count / len(transactions)"
   ]
  },
  {
   "cell_type": "code",
   "execution_count": 17,
   "id": "1eebcab6-7278-4292-b3e1-abd9bd76a2df",
   "metadata": {},
   "outputs": [],
   "source": [
    "def apriori(transactions, minsup):\n",
    "    itemsets = defaultdict(int)\n",
    "    frequent_itemsets = []\n",
    "\n",
    "    items = set(item for transaction in transactions for item in transaction)\n",
    "\n",
    "    candidates = create_candidates(items, 1)\n",
    "\n",
    "    while candidates:\n",
    "        current_itemsets = []\n",
    "        for candidate in candidates:\n",
    "            support = get_support(candidate, transactions)\n",
    "            if support >= minsup:\n",
    "                itemsets[candidate] = support\n",
    "                current_itemsets.append(candidate)\n",
    "\n",
    "        frequent_itemsets.extend(current_itemsets)\n",
    "        \n",
    "        new_candidates = set()\n",
    "\n",
    "        for i in range(len(current_itemsets)):\n",
    "            for j in range(i+1, len(current_itemsets)):\n",
    "                new_candidate = tuple(sorted(set(current_itemsets[i]) | set(current_itemsets[j])))\n",
    "                if len(new_candidate) == (len(current_itemsets[0]) + 1):\n",
    "                    new_candidates.add(new_candidate)\n",
    "\n",
    "        candidates = new_candidates\n",
    "\n",
    "    return frequent_itemsets, itemsets"
   ]
  },
  {
   "cell_type": "code",
   "execution_count": null,
   "id": "d5ca5a35-e76d-426a-886c-ce51835a7f53",
   "metadata": {},
   "outputs": [],
   "source": []
  },
  {
   "cell_type": "code",
   "execution_count": 30,
   "id": "30aa2b60-888e-4e75-9f90-d4c3fd8647dc",
   "metadata": {},
   "outputs": [],
   "source": [
    "def generate_rules(frequent_itemsets, itemsets, minConf):\n",
    "    rules = []\n",
    "\n",
    "    for itemset in frequent_itemsets:\n",
    "        for length in range(1, len(itemset)):\n",
    "            for antecedent in combinations(itemset, length):\n",
    "                antecedent = set(antecedent)\n",
    "                consequent = set(itemset) - antecedent\n",
    "\n",
    "                if len(consequent) > 0:\n",
    "                    antecedent_support = itemsets[tuple(sorted(antecedent))]\n",
    "                    rule_support = itemsets[itemset]\n",
    "                    confidence = rule_support/antecedent_support\n",
    "\n",
    "                    if confidence >= minConf:\n",
    "                        rules.append((antecedent, consequent, confidence))\n",
    "    return rules"
   ]
  },
  {
   "cell_type": "code",
   "execution_count": 32,
   "id": "3cc59404-83f9-4ca6-8a3e-2169082b48f5",
   "metadata": {},
   "outputs": [
    {
     "name": "stdout",
     "output_type": "stream",
     "text": [
      "<itertools.combinations object at 0x1067ccc70>\n",
      "Frequent Itemsets:\n",
      "('butter',) - Support: 0.6666666666666666\n",
      "('eggs',) - Support: 0.5\n",
      "('bread',) - Support: 0.8333333333333334\n",
      "('milk',) - Support: 0.6666666666666666\n",
      "('butter', 'eggs') - Support: 0.3333333333333333\n",
      "('eggs', 'milk') - Support: 0.3333333333333333\n",
      "('bread', 'butter') - Support: 0.5\n",
      "('bread', 'milk') - Support: 0.6666666666666666\n",
      "('butter', 'milk') - Support: 0.3333333333333333\n",
      "('bread', 'eggs') - Support: 0.3333333333333333\n",
      "('bread', 'butter', 'milk') - Support: 0.3333333333333333\n",
      "('bread', 'eggs', 'milk') - Support: 0.3333333333333333\n",
      "\n",
      "Association Rules:\n",
      "{'eggs'} => {'butter'} - Confidence: 0.6666666666666666\n",
      "{'eggs'} => {'milk'} - Confidence: 0.6666666666666666\n",
      "{'bread'} => {'butter'} - Confidence: 0.6\n",
      "{'butter'} => {'bread'} - Confidence: 0.75\n",
      "{'bread'} => {'milk'} - Confidence: 0.7999999999999999\n",
      "{'milk'} => {'bread'} - Confidence: 1.0\n",
      "{'eggs'} => {'bread'} - Confidence: 0.6666666666666666\n",
      "{'bread', 'butter'} => {'milk'} - Confidence: 0.6666666666666666\n",
      "{'milk', 'butter'} => {'bread'} - Confidence: 1.0\n",
      "{'eggs'} => {'bread', 'milk'} - Confidence: 0.6666666666666666\n",
      "{'eggs', 'bread'} => {'milk'} - Confidence: 1.0\n",
      "{'eggs', 'milk'} => {'bread'} - Confidence: 1.0\n"
     ]
    }
   ],
   "source": [
    "transactions = [\n",
    "    ['milk', 'bread', 'butter'],\n",
    "    ['milk', 'bread'],\n",
    "    ['bread', 'butter'],\n",
    "    ['milk', 'bread', 'butter', 'eggs'],\n",
    "    ['milk', 'bread', 'eggs'],\n",
    "    ['butter', 'eggs']\n",
    "]\n",
    "\n",
    "min_sup = 0.2\n",
    "min_conf = 0.6\n",
    "\n",
    "frequent_itemsets, itemsets = apriori(transactions, min_sup)\n",
    "rules = generate_rules(frequence_itemsets, itemsets, min_conf)\n",
    "\n",
    "print(\"Frequent Itemsets:\")\n",
    "for itemset in frequent_itemsets:\n",
    "    print(f\"{itemset} - Support: {itemsets[itemset]}\")\n",
    "\n",
    "print(\"\\nAssociation Rules:\")\n",
    "for antecedent, consequent, confidence in rules:\n",
    "    print(f\"{antecedent} => {consequent} - Confidence: {confidence}\")"
   ]
  },
  {
   "cell_type": "code",
   "execution_count": null,
   "id": "f24cb878-77ca-4ca9-b4ac-dd0693e59967",
   "metadata": {},
   "outputs": [],
   "source": []
  },
  {
   "cell_type": "code",
   "execution_count": null,
   "id": "3e70adfc-82f3-4b00-9e2b-fe1280431a72",
   "metadata": {},
   "outputs": [],
   "source": []
  },
  {
   "cell_type": "code",
   "execution_count": null,
   "id": "d51bcfa9-c617-45d9-8484-768a68737a74",
   "metadata": {},
   "outputs": [],
   "source": []
  },
  {
   "cell_type": "code",
   "execution_count": null,
   "id": "b09a9072-d6ce-4a5a-aa94-7e40b8a35cbf",
   "metadata": {},
   "outputs": [],
   "source": []
  },
  {
   "cell_type": "code",
   "execution_count": null,
   "id": "9b9cc55a-4a05-491a-a973-50e499b86acb",
   "metadata": {},
   "outputs": [],
   "source": []
  },
  {
   "cell_type": "code",
   "execution_count": null,
   "id": "860e43e7-98b7-4995-9f38-c0c49f9fe557",
   "metadata": {},
   "outputs": [],
   "source": []
  },
  {
   "cell_type": "code",
   "execution_count": null,
   "id": "75f60d9b-39b2-4ae1-9ab8-3022479e7931",
   "metadata": {},
   "outputs": [],
   "source": []
  },
  {
   "cell_type": "code",
   "execution_count": null,
   "id": "eea220df-3d31-41a2-be04-4f5fd827366b",
   "metadata": {},
   "outputs": [],
   "source": []
  },
  {
   "cell_type": "code",
   "execution_count": null,
   "id": "774c39be-66d7-4d07-a61e-47a8ee7c4d40",
   "metadata": {},
   "outputs": [],
   "source": []
  },
  {
   "cell_type": "code",
   "execution_count": null,
   "id": "e21505cc-d7eb-4cb9-99fb-63dcc49936d7",
   "metadata": {},
   "outputs": [],
   "source": []
  },
  {
   "cell_type": "code",
   "execution_count": null,
   "id": "277d3b50-4e28-412a-a7ce-8dcd7c0eb966",
   "metadata": {},
   "outputs": [],
   "source": []
  },
  {
   "cell_type": "code",
   "execution_count": null,
   "id": "a472e5d5-09c0-4c4a-a3e6-1808a0ac02c7",
   "metadata": {},
   "outputs": [],
   "source": []
  },
  {
   "cell_type": "code",
   "execution_count": null,
   "id": "12984b3d-dadd-4994-9a16-146932787343",
   "metadata": {},
   "outputs": [],
   "source": []
  },
  {
   "cell_type": "code",
   "execution_count": null,
   "id": "da195606-bc96-4a48-8c12-bf8ce7a8f088",
   "metadata": {},
   "outputs": [],
   "source": []
  },
  {
   "cell_type": "code",
   "execution_count": null,
   "id": "60706406-b319-494e-8a94-b3cc9c8f0ede",
   "metadata": {},
   "outputs": [],
   "source": []
  },
  {
   "cell_type": "code",
   "execution_count": null,
   "id": "5d3fdd8f-f2bc-482c-b9b3-8fe08b360459",
   "metadata": {},
   "outputs": [],
   "source": []
  }
 ],
 "metadata": {
  "kernelspec": {
   "display_name": "Python 3 (ipykernel)",
   "language": "python",
   "name": "python3"
  },
  "language_info": {
   "codemirror_mode": {
    "name": "ipython",
    "version": 3
   },
   "file_extension": ".py",
   "mimetype": "text/x-python",
   "name": "python",
   "nbconvert_exporter": "python",
   "pygments_lexer": "ipython3",
   "version": "3.12.4"
  }
 },
 "nbformat": 4,
 "nbformat_minor": 5
}
