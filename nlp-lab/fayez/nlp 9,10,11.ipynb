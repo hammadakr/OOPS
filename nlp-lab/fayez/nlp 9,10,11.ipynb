{
 "cells": [
  {
   "cell_type": "markdown",
   "id": "33541b2e",
   "metadata": {},
   "source": [
    "# 9. Word2Vec Embeddings using Gensim\n",
    " "
   ]
  },
  {
   "cell_type": "code",
   "execution_count": null,
   "id": "16cac0fc",
   "metadata": {},
   "outputs": [],
   "source": [
    "import gensim.downloader as api\n",
    "\n",
    "# Load pre-trained Word2Vec model\n",
    "model = api.load(\"word2vec-google-news-300\")\n",
    "\n",
    "# Example usage\n",
    "print(model['king'])  # vector for the word 'king'\n",
    "print(model.most_similar('king'))  # similar words to 'king'\n"
   ]
  },
  {
   "cell_type": "code",
   "execution_count": null,
   "id": "89323840",
   "metadata": {},
   "outputs": [],
   "source": [
    "from gensim.models import Word2Vec\n",
    "from nltk.tokenize import word_tokenize\n",
    "import nltk\n",
    "nltk.download('punkt')\n",
    "\n",
    "# Sample corpus\n",
    "corpus = [\"This is a sample sentence\", \"Word2Vec is fun to learn\"]\n",
    "tokenized_corpus = [word_tokenize(sent.lower()) for sent in corpus]\n",
    "\n",
    "# Train Word2Vec model\n",
    "model = Word2Vec(sentences=tokenized_corpus, vector_size=100, window=5, min_count=1, workers=4)\n",
    "\n",
    "# Save and load\n",
    "model.save(\"custom_word2vec.model\")\n",
    "model = Word2Vec.load(\"custom_word2vec.model\")\n",
    "\n",
    "print(model.wv['sample'])\n",
    "print(model.wv.most_similar('sample'))\n"
   ]
  },
  {
   "cell_type": "markdown",
   "id": "8564ef00",
   "metadata": {},
   "source": [
    "# 10. IMDB Sentiment Analysis using Word2Vec + LSTM and BERT "
   ]
  },
  {
   "cell_type": "code",
   "execution_count": null,
   "id": "7d2ea914",
   "metadata": {},
   "outputs": [],
   "source": [
    "from keras.models import Sequential\n",
    "from keras.layers import LSTM, Dense, Embedding\n",
    "from keras.preprocessing.text import Tokenizer\n",
    "from keras.preprocessing.sequence import pad_sequences\n",
    "from keras.datasets import imdb\n",
    "import numpy as np\n",
    "\n",
    "# Load data\n",
    "(x_train, y_train), (x_test, y_test) = imdb.load_data(num_words=10000)\n",
    "word_index = imdb.get_word_index()\n",
    "\n",
    "# Reverse index to word mapping\n",
    "reverse_word_index = {value: key for key, value in word_index.items()}\n",
    "\n",
    "# Convert back to text\n",
    "x_train_text = [\" \".join([reverse_word_index.get(i - 3, \"?\") for i in seq]) for seq in x_train[:1000]]\n",
    "\n",
    "# Tokenize and pad\n",
    "tokenizer = Tokenizer(num_words=10000)\n",
    "tokenizer.fit_on_texts(x_train_text)\n",
    "sequences = tokenizer.texts_to_sequences(x_train_text)\n",
    "padded = pad_sequences(sequences, maxlen=300)\n",
    "\n",
    "# Load pre-trained Word2Vec\n",
    "w2v = api.load(\"word2vec-google-news-300\")\n",
    "embedding_dim = 300\n",
    "vocab_size = len(tokenizer.word_index) + 1\n",
    "\n",
    "# Create embedding matrix\n",
    "embedding_matrix = np.zeros((vocab_size, embedding_dim))\n",
    "for word, i in tokenizer.word_index.items():\n",
    "    if word in w2v:\n",
    "        embedding_matrix[i] = w2v[word]\n",
    "\n",
    "# Define LSTM model\n",
    "model = Sequential()\n",
    "model.add(Embedding(input_dim=vocab_size, output_dim=embedding_dim, weights=[embedding_matrix], input_length=300, trainable=False))\n",
    "model.add(LSTM(128))\n",
    "model.add(Dense(1, activation='sigmoid'))\n",
    "\n",
    "model.compile(optimizer='adam', loss='binary_crossentropy', metrics=['accuracy'])\n",
    "model.summary()\n",
    "# model.fit(padded, y_train[:1000], epochs=5, validation_split=0.2)  # Uncomment to train\n"
   ]
  },
  {
   "cell_type": "markdown",
   "id": "c8b6df84",
   "metadata": {},
   "source": [
    "# 11. IMDB Sentiment Analysis using BERT Classification\n",
    " "
   ]
  },
  {
   "cell_type": "code",
   "execution_count": null,
   "id": "4b56d454",
   "metadata": {},
   "outputs": [],
   "source": [
    "from transformers import BertTokenizer, BertForSequenceClassification, Trainer, TrainingArguments\n",
    "from datasets import load_dataset\n",
    "import torch\n",
    "\n",
    "# Load dataset\n",
    "dataset = load_dataset(\"imdb\")\n",
    "tokenizer = BertTokenizer.from_pretrained(\"bert-base-uncased\")\n",
    "\n",
    "# Tokenize\n",
    "def tokenize_fn(examples):\n",
    "    return tokenizer(examples['text'], padding=\"max_length\", truncation=True)\n",
    "\n",
    "tokenized_ds = dataset.map(tokenize_fn, batched=True)\n",
    "\n",
    "# Format for PyTorch\n",
    "tokenized_ds.set_format('torch', columns=['input_ids', 'attention_mask', 'label'])\n",
    "\n",
    "# Load pre-trained BERT\n",
    "model = BertForSequenceClassification.from_pretrained(\"bert-base-uncased\", num_labels=2)\n",
    "\n",
    "# Training args\n",
    "training_args = TrainingArguments(\n",
    "    output_dir=\"./results\",\n",
    "    evaluation_strategy=\"epoch\",\n",
    "    per_device_train_batch_size=8,\n",
    "    per_device_eval_batch_size=8,\n",
    "    num_train_epochs=1,\n",
    "    weight_decay=0.01,\n",
    "    logging_dir='./logs',\n",
    "    logging_steps=10,\n",
    ")\n",
    "\n",
    "# Trainer\n",
    "trainer = Trainer(\n",
    "    model=model,\n",
    "    args=training_args,\n",
    "    train_dataset=tokenized_ds['train'].shuffle(seed=42).select(range(2000)),  # use subset\n",
    "    eval_dataset=tokenized_ds['test'].select(range(500))\n",
    ")\n",
    "\n",
    "# Train\n",
    "trainer.train()\n"
   ]
  },
  {
   "cell_type": "code",
   "execution_count": null,
   "id": "dc7a6414",
   "metadata": {},
   "outputs": [],
   "source": []
  },
  {
   "cell_type": "code",
   "execution_count": null,
   "id": "aaa631fe",
   "metadata": {},
   "outputs": [],
   "source": []
  },
  {
   "cell_type": "code",
   "execution_count": null,
   "id": "129f3d71",
   "metadata": {},
   "outputs": [],
   "source": []
  },
  {
   "cell_type": "code",
   "execution_count": null,
   "id": "6e27dfc3",
   "metadata": {},
   "outputs": [],
   "source": []
  },
  {
   "cell_type": "code",
   "execution_count": null,
   "id": "8e69f4e6",
   "metadata": {},
   "outputs": [],
   "source": []
  }
 ],
 "metadata": {
  "kernelspec": {
   "display_name": "Python 3 (ipykernel)",
   "language": "python",
   "name": "python3"
  },
  "language_info": {
   "codemirror_mode": {
    "name": "ipython",
    "version": 3
   },
   "file_extension": ".py",
   "mimetype": "text/x-python",
   "name": "python",
   "nbconvert_exporter": "python",
   "pygments_lexer": "ipython3",
   "version": "3.9.12"
  }
 },
 "nbformat": 4,
 "nbformat_minor": 5
}
